{
 "cells": [
  {
   "cell_type": "markdown",
   "metadata": {},
   "source": [
    "# An Introduction to Generalized Linear Models (Fourth Edition)"
   ]
  },
  {
   "cell_type": "code",
   "execution_count": 30,
   "metadata": {},
   "outputs": [],
   "source": [
    "import time\n",
    "import math\n",
    "import torch\n",
    "import numpy\n",
    "import scipy\n",
    "import pandas\n",
    "from scipy import stats\n",
    "from scipy.stats import norm\n",
    "from numpy.linalg import inv\n",
    "import matplotlib.pyplot as plt\n",
    "\n",
    "%matplotlib inline"
   ]
  },
  {
   "cell_type": "markdown",
   "metadata": {},
   "source": [
    "## 4.2 Example: Failure times for pressure vessels"
   ]
  },
  {
   "cell_type": "code",
   "execution_count": 2,
   "metadata": {},
   "outputs": [],
   "source": [
    "lifetime = numpy.array([1051, 4921, 7886, 10861, 13520,\n",
    "1337, 5445, 8108, 11026, 13670,\n",
    "1389, 5620, 8546, 11214, 14110,\n",
    "1921, 5817, 8666, 11362, 14496,\n",
    "1942, 5905, 8831, 11604, 15395,\n",
    "2322, 5956, 9106, 11608, 16179,\n",
    "3629, 6068, 9711, 11745, 17092,\n",
    "4006, 6121, 9806, 11762, 17568,\n",
    "4012, 6473, 10205, 11895, 17568,\n",
    "4063, 7501, 10396, 12044])"
   ]
  },
  {
   "cell_type": "code",
   "execution_count": 3,
   "metadata": {},
   "outputs": [],
   "source": [
    "theta = lifetime.mean()\n",
    "weibull_probability = (2 * lifetime/theta**2) * numpy.exp(-(lifetime/theta)**2)\n"
   ]
  },
  {
   "cell_type": "code",
   "execution_count": 4,
   "metadata": {},
   "outputs": [],
   "source": [
    "def newton_raphson_weibull(observed_data, initial_param):\n",
    "    \n",
    "    theta_m_1     = initial_param\n",
    "    n             = observed_data.size\n",
    "    theta_list    = []\n",
    "    u_prime_list  = []\n",
    "    diff          = 1\n",
    "    while diff > 0.01: \n",
    "        u         = ((-2*n)/theta_m_1)    + ((2/theta_m_1**3) * (observed_data**2).sum())\n",
    "\n",
    "        u_prime   = ((-2*n)/theta_m_1**2) - ((6/theta_m_1**4) * (observed_data**2).sum())\n",
    "        \n",
    "        theta_m   = theta_m_1 - u/u_prime\n",
    "        \n",
    "        diff      = abs(theta_m_1 - theta_m)\n",
    "        \n",
    "        # Note that replacing the old value with the new value must happen after the \"diff\" line.\n",
    "        theta_m_1 = theta_m\n",
    "                \n",
    "        theta_list.append(theta_m)\n",
    "        u_prime_list.append(u_prime)\n",
    "    return numpy.array(theta_list), numpy.array(u_prime_list)\n",
    "    "
   ]
  },
  {
   "cell_type": "code",
   "execution_count": 5,
   "metadata": {},
   "outputs": [
    {
     "data": {
      "text/plain": [
       "array([1.33333333e+00, 1.77777776e+00, 2.37037032e+00, 3.16049370e+00,\n",
       "       4.21399146e+00, 5.61865494e+00, 7.49153912e+00, 9.98871691e+00,\n",
       "       1.33182847e+01, 1.77577022e+01, 2.36769108e+01, 3.15691541e+01,\n",
       "       4.20920626e+01, 5.61224114e+01, 7.48290791e+01, 9.97702024e+01,\n",
       "       1.33022426e+02, 1.77352545e+02, 2.36444726e+02, 3.15199608e+02,\n",
       "       4.20123963e+02, 5.59828691e+02, 7.45642213e+02, 9.92310285e+02,\n",
       "       1.31865733e+03, 1.74785681e+03, 2.30647332e+03, 3.02056095e+03,\n",
       "       3.90601856e+03, 4.95072891e+03, 6.09232503e+03, 7.21134642e+03,\n",
       "       8.16818020e+03, 8.87407875e+03, 9.32946537e+03, 9.59459556e+03,\n",
       "       9.73887706e+03, 9.81433452e+03, 9.85294880e+03, 9.87248495e+03,\n",
       "       9.88231128e+03, 9.88723913e+03, 9.88970674e+03, 9.89094147e+03,\n",
       "       9.89155907e+03, 9.89186792e+03, 9.89202237e+03, 9.89209959e+03,\n",
       "       9.89213821e+03, 9.89215751e+03, 9.89216717e+03])"
      ]
     },
     "execution_count": 5,
     "metadata": {},
     "output_type": "execute_result"
    }
   ],
   "source": [
    "theta_value, u_prime_diss = newton_raphson_weibull(lifetime, 1)\n",
    "theta_value"
   ]
  },
  {
   "cell_type": "markdown",
   "metadata": {},
   "source": [
    "## Applying Hessian and Jacobina methods to the same problem"
   ]
  },
  {
   "cell_type": "code",
   "execution_count": 6,
   "metadata": {},
   "outputs": [],
   "source": [
    "def log_likelihood_weibull(param, y_data = torch.from_numpy(lifetime), lam = torch.Tensor([2])):\n",
    "    \n",
    "    log_likelihood = ((lam - 1)*torch.log(y_data) + torch.log(lam) - lam * torch.log(param) - \\\n",
    "                      (y_data/param)**lam).sum()\n",
    "    \n",
    "    return log_likelihood"
   ]
  },
  {
   "cell_type": "code",
   "execution_count": 7,
   "metadata": {},
   "outputs": [],
   "source": [
    "def curvature_matrix(parameter_array):\n",
    "    \n",
    "    curvature   = torch.autograd.functional.hessian(log_likelihood_weibull, (parameter_array))\n",
    "    \n",
    "    return curvature"
   ]
  },
  {
   "cell_type": "code",
   "execution_count": 8,
   "metadata": {},
   "outputs": [],
   "source": [
    "def jacobian_matrix(parameter_array):\n",
    "    \n",
    "    jacobian    = torch.autograd.functional.jacobian(log_likelihood_weibull, (parameter_array))\n",
    "    \n",
    "    return jacobian"
   ]
  },
  {
   "cell_type": "code",
   "execution_count": 9,
   "metadata": {},
   "outputs": [],
   "source": [
    "def newton_raphson_weibull_v2(observed_data, initial_param):\n",
    "    \n",
    "    theta_m_1     = initial_param\n",
    "    n             = observed_data.size()\n",
    "    theta_list    = []\n",
    "    diff          = 1\n",
    "    while diff > 0.01: \n",
    "        u         = jacobian_matrix(theta_m_1)[0]\n",
    "        \n",
    "        #u_primt (below) is calculated according to eq. 4.7 \n",
    "        u_prime   = curvature_matrix(theta_m_1)[0][0]\n",
    "\n",
    "        theta_m   = theta_m_1 - u/u_prime\n",
    "        \n",
    "        # Accoring to eq. 4. 10 of Dobson, u_prime can be approximated good with E[u_prime].\n",
    "        # You can uncomment the print line to see that this is true!\n",
    "        u_prime_ap= torch.Tensor([4])*torch.Tensor([n])/torch.Tensor([theta_m_1])**2\n",
    "        \n",
    "#         print(u_prime, u_prime_ap)\n",
    "        \n",
    "        diff      = abs(theta_m_1 - theta_m)\n",
    "                \n",
    "        # Note that replacing the old value with the new value must happen after the \"diff\" line.\n",
    "        theta_m_1 = theta_m\n",
    "                \n",
    "        theta_list.append(theta_m)\n",
    "        \n",
    "    return torch.Tensor(theta_list), -u_prime\n",
    "    "
   ]
  },
  {
   "cell_type": "code",
   "execution_count": 10,
   "metadata": {},
   "outputs": [
    {
     "data": {
      "text/plain": [
       "tensor([1065.5015, 1417.9109, 1884.0295, 2496.6667, 3292.7808, 4306.1895,\n",
       "        5548.0239, 6964.1304, 8366.6973, 9409.0938, 9836.9805, 9891.4131,\n",
       "        9892.1768, 9892.1768])"
      ]
     },
     "execution_count": 10,
     "metadata": {},
     "output_type": "execute_result"
    }
   ],
   "source": [
    "theta_value_torch, J = newton_raphson_weibull_v2(torch.from_numpy(lifetime), torch.Tensor([800]))\n",
    "theta_value_torch"
   ]
  },
  {
   "cell_type": "markdown",
   "metadata": {},
   "source": [
    "### Standard error of $\\theta$ and confidence interval (with the assumption thata sampling distribution of $\\hat{\\theta}$ is normal (or approximately normal))"
   ]
  },
  {
   "cell_type": "code",
   "execution_count": 183,
   "metadata": {},
   "outputs": [
    {
     "name": "stdout",
     "output_type": "stream",
     "text": [
      "tensor(8507.2715) tensor(11277.0820)\n"
     ]
    }
   ],
   "source": [
    "se       = numpy.sqrt(1/J)\n",
    "CI_right = theta_value_torch[-1] + 1.96 *se\n",
    "CI_left  = theta_value_torch[-1] - 1.96 *se\n",
    "\n",
    "print(CI_left, CI_right)"
   ]
  },
  {
   "cell_type": "markdown",
   "metadata": {},
   "source": [
    "### Cheking the assumption of normaility (using quadratic approximation)"
   ]
  },
  {
   "cell_type": "code",
   "execution_count": 216,
   "metadata": {},
   "outputs": [],
   "source": [
    "def theta_log_likelihood_quadratic_approximation(theta_data, theta_hat, observed_fisher_information):\n",
    "    quadratic_theta_out_list = []\n",
    "    for theta_value in theta_data:\n",
    "        quadratic_app = -0.5 * observed_fisher_information * (theta_value - theta_hat)**2\n",
    "        \n",
    "        quadratic_theta_out_list.append(quadratic_app)\n",
    "    \n",
    "    return numpy.array(quadratic_theta_out_list)"
   ]
  },
  {
   "cell_type": "code",
   "execution_count": 217,
   "metadata": {},
   "outputs": [],
   "source": [
    "theta_range         = numpy.linspace(7000, 13000, 6000)\n",
    "quadratic_theta_app = theta_log_likelihood_quadratic_approximation(theta_range, 9892.1768, J)"
   ]
  },
  {
   "cell_type": "code",
   "execution_count": 205,
   "metadata": {},
   "outputs": [],
   "source": [
    "def theta_log_likelihood(observed_data, theta_data, lam = torch.Tensor([2])):\n",
    "    \n",
    "    theta_out_list = []\n",
    "    for theta_value in theta_data:\n",
    "        theta_log_likelihood = ((lam - 1)*torch.log(observed_data) + torch.log(lam) - lam * torch.log(theta_value) - \\\n",
    "                      (observed_data/theta_value)**lam).sum()\n",
    "        \n",
    "        theta_out_list.append(theta_log_likelihood)\n",
    "    \n",
    "    return numpy.array(theta_out_list)"
   ]
  },
  {
   "cell_type": "code",
   "execution_count": 206,
   "metadata": {},
   "outputs": [],
   "source": [
    "theta_range      = numpy.linspace(7000, 13000, 6000)\n",
    "theta_likelihood = theta_log_likelihood(torch.from_numpy(lifetime), torch.from_numpy(theta_range))"
   ]
  },
  {
   "cell_type": "code",
   "execution_count": 251,
   "metadata": {},
   "outputs": [
    {
     "data": {
      "text/plain": [
       "<matplotlib.legend.Legend at 0x7ff6c44fdfc0>"
      ]
     },
     "execution_count": 251,
     "metadata": {},
     "output_type": "execute_result"
    },
    {
     "data": {
      "image/png": "[encoded data removed]",
      "text/plain": [
       "<Figure size 936x576 with 1 Axes>"
      ]
     },
     "metadata": {
      "needs_background": "light"
     },
     "output_type": "display_data"
    }
   ],
   "source": [
    "fig, ax = plt.subplots(1, 1, figsize = (13, 8))\n",
    "\n",
    "# according to Pawitan, page 33, we can write log(L(theta)/L(theta_hata)) = log(L(theta)) - log(L(theta_hat).)\n",
    "ax.plot(theta_range, theta_likelihood - theta_likelihood.max(), 'k-')\n",
    "\n",
    "ax.plot(theta_range, quadratic_theta_app, 'k--')\n",
    "\n",
    "\n",
    "ax.set_xlabel(r\"$\\theta$\", fontsize = 20)\n",
    "\n",
    "ax.set_ylabel(\"log-likelihood\", fontsize = 20)\n",
    "\n",
    "ax.set_title(r\"log-likelihood of $\\theta$ and its quadratic approximation\", fontsize = 20)\n",
    "\n",
    "ax.legend([\"likelihood\", \"quadratic\"], fontsize = 17)\n",
    "\n",
    "# ax.set_xlim(9000, 11000)\n"
   ]
  },
  {
   "cell_type": "markdown",
   "metadata": {},
   "source": [
    "### Conclusion\n",
    "\n",
    "Given the plot above (and as it is written in the book), there is not a good fit between the quadratic approximation and the likelihood function. Also, in the value of the curvature (i.e. observed Fisher information; $\\Im$) is very small ($2.0030e-06$) which means the log-likelihood curve is approximatly flat for a wide interval of $\\theta$ values. In this case $\\hat{\\theta}$ is not well determined and its standard error is large ($se = 706.58$)."
   ]
  },
  {
   "cell_type": "markdown",
   "metadata": {},
   "source": [
    "# 4.4 Poisson regression example"
   ]
  },
  {
   "cell_type": "code",
   "execution_count": 2,
   "metadata": {},
   "outputs": [],
   "source": [
    "x_array = numpy.array([-1, -1, 0, 0, 0, 0, 1, 1, 1])\n",
    "y_array = numpy.array([2, 3, 6, 7, 8, 9, 10, 12, 15])"
   ]
  },
  {
   "cell_type": "code",
   "execution_count": 3,
   "metadata": {},
   "outputs": [],
   "source": [
    "def j_matrix_function(y_data, x_data, b_one, b_two):\n",
    "    \n",
    "    j_00  = (1 / (b_one + b_two * x_data)).sum()\n",
    "    j_01  = (x_data / (b_one + b_two * x_data)).sum()\n",
    "    j_10  = j_01\n",
    "    j_11  = (x_data**2 / (b_one + b_two * x_data)).sum()\n",
    "\n",
    "    jz_00 = (y_data / (b_one + b_two  * x_data)).sum()\n",
    "    jz_10 = (y_data * x_data / (b_one + b_two * x_data)).sum()\n",
    "\n",
    "    j_matrix_out  = numpy.array([j_00, j_01, j_10, j_11]).reshape(2,2)\n",
    "    jz_matrix_out = numpy.array([jz_00, jz_10]).reshape(2,1)\n",
    "    \n",
    "    return j_matrix_out, jz_matrix_out"
   ]
  },
  {
   "cell_type": "code",
   "execution_count": 7,
   "metadata": {},
   "outputs": [],
   "source": [
    "def poisson_iterative_function(y_data, x_data, ini_b_one, ini_b_two):\n",
    "    \n",
    "    b_one    = ini_b_one\n",
    "    b_two    = ini_b_two\n",
    "    diff_one = 1\n",
    "    # This condition alone is not good enough since it meet the condtion > 0.01 while the other parameter \n",
    "    # has not converged yet!\n",
    "    while diff_one > 0.01:\n",
    "        \n",
    "        j_matrix, jz_matrix = j_matrix_function(y_data, x_data, b_one, b_two)\n",
    "\n",
    "        b_00, b_10   = inv(j_matrix) @ jz_matrix\n",
    "\n",
    "        diff_one     = abs(b_00 - b_one)\n",
    "        \n",
    "        b_one, b_two = b_00, b_10\n",
    "\n",
    "    # final coefficient matrix\n",
    "    b_matrix         = numpy.array([b_one, b_two]).reshape(2,1)\n",
    "    \n",
    "    # final fisher informatin matrix evaluated at MLE values!\n",
    "    j_matrix, _      = j_matrix_function(y_data, x_data, b_one, b_two)\n",
    "    j_matrix_inverse = inv(j_matrix)\n",
    "    \n",
    "    return b_matrix, j_matrix_inverse"
   ]
  },
  {
   "cell_type": "code",
   "execution_count": 8,
   "metadata": {},
   "outputs": [
    {
     "name": "stdout",
     "output_type": "stream",
     "text": [
      "[[7.45163181]\n",
      " [4.93531374]]\n",
      "[[0.781675   0.41655685]\n",
      " [0.41655685 1.18630213]]\n"
     ]
    }
   ],
   "source": [
    "b_matrix, j_inverse  = poisson_iterative_function(y_array, x_array, 7, 5)\n",
    "print(b_matrix)\n",
    "print(j_inverse)"
   ]
  },
  {
   "cell_type": "markdown",
   "metadata": {},
   "source": [
    "## 6.3.1 Example: Carbohydrate diet"
   ]
  },
  {
   "cell_type": "code",
   "execution_count": 118,
   "metadata": {},
   "outputs": [],
   "source": [
    "input_data = numpy.array([\n",
    "[33, 33, 100, 14],\n",
    "[40, 47, 92, 15],\n",
    "[37, 49, 135, 18],\n",
    "[27, 35, 144, 12],\n",
    "[30, 46, 140, 15],\n",
    "[43, 52, 101, 15],\n",
    "[34, 62, 95, 14],\n",
    "[48, 23, 101, 17],\n",
    "[30, 32, 98, 15],\n",
    "[38, 42, 105, 14],\n",
    "[50, 31, 108, 17],\n",
    "[51, 61, 85, 19],\n",
    "[30, 63, 130, 19],\n",
    "[36, 40, 127, 20],\n",
    "[41, 50, 109, 15],\n",
    "[42, 64, 107, 16],\n",
    "[46, 56, 117, 18],\n",
    "[24, 61, 100, 13],\n",
    "[35, 48, 118, 18],\n",
    "[37, 28, 102, 14]])\n",
    "\n",
    "carbohydrate = input_data[:, 0].reshape(20, 1)\n",
    "age          = input_data[:, 1].reshape(20, 1)\n",
    "weight       = input_data[:, 2].reshape(20, 1)\n",
    "protein      = input_data[:, 3].reshape(20, 1)\n",
    "intercept    = numpy.ones(20).reshape(20, 1)\n",
    "design_matrix= numpy.concatenate([intercept, age, weight, protein], -1)\n",
    "X            = design_matrix\n",
    "y            = carbohydrate\n",
    "yT           = numpy.transpose(y)\n",
    "XT           = numpy.transpose(X)"
   ]
  },
  {
   "cell_type": "code",
   "execution_count": 94,
   "metadata": {},
   "outputs": [
    {
     "data": {
      "text/plain": [
       "array([[36.96005591],\n",
       "       [-0.11367636],\n",
       "       [-0.22801736],\n",
       "       [ 1.95771257]])"
      ]
     },
     "execution_count": 94,
     "metadata": {},
     "output_type": "execute_result"
    }
   ],
   "source": [
    "xT_x = numpy.transpose(X) @ X\n",
    "xT_y = numpy.transpose(X) @ y \n",
    "b    = inv(xT_x)@xT_y # note the order (first inverse then the other one)!\n",
    "b"
   ]
  },
  {
   "cell_type": "code",
   "execution_count": 116,
   "metadata": {},
   "outputs": [
    {
     "data": {
      "text/plain": [
       "array([[567.66285733]])"
      ]
     },
     "execution_count": 116,
     "metadata": {},
     "output_type": "execute_result"
    }
   ],
   "source": [
    "# Residual sum of squares\n",
    "numpy.transpose((y - X@b))@((y - X@b))"
   ]
  },
  {
   "cell_type": "code",
   "execution_count": 115,
   "metadata": {},
   "outputs": [
    {
     "name": "stderr",
     "output_type": "stream",
     "text": [
      "/tmp/ipykernel_1355142/93197094.py:2: RuntimeWarning: invalid value encountered in sqrt\n",
      "  numpy.sqrt((35.479) * inv(xT_x))\n"
     ]
    },
    {
     "data": {
      "text/plain": [
       "array([[13.07129609,         nan,         nan,         nan],\n",
       "       [        nan,  0.10932559,  0.02587612,         nan],\n",
       "       [        nan,  0.02587612,  0.08328903,         nan],\n",
       "       [        nan,         nan,         nan,  0.6348935 ]])"
      ]
     },
     "execution_count": 115,
     "metadata": {},
     "output_type": "execute_result"
    }
   ],
   "source": [
    "# Standard error of \"b\" from eq. 5.10 (remember that we need J**(-1) and the sqrt of its diagonal element!)\n",
    "# Also, note that I used 35.479 as the value of sigma**2 (variance) amd I took it from the book but I could \n",
    "# have easily calculated it from eq. 6.4.\n",
    "numpy.sqrt((35.479) * inv(xT_x))"
   ]
  },
  {
   "cell_type": "code",
   "execution_count": 119,
   "metadata": {},
   "outputs": [
    {
     "data": {
      "text/plain": [
       "array([[15.99996779]])"
      ]
     },
     "execution_count": 119,
     "metadata": {},
     "output_type": "execute_result"
    }
   ],
   "source": [
    "# Deviance of model 6.6 using equation 6.5\n",
    "D = (1/35.479) * (yT@y - numpy.transpose(b)@XT@y)\n",
    "D"
   ]
  },
  {
   "cell_type": "code",
   "execution_count": 265,
   "metadata": {},
   "outputs": [],
   "source": [
    "# Predicted valaues\n",
    "# To find the predicted valaues we need to use the estimated beta values above (the \"b\" vector).\n",
    "# Note that the coefficients values in the book are rounded up but I am not rounding them so my predicted \n",
    "# values are slightly different!\n",
    "y_p   = 36.96 - 0.113*age - 0.228*weight + 1.957*protein\n",
    "\n",
    "# Residuals\n",
    "e_hat = y - y_p\n",
    "\n",
    "# Standardized residuals (see page 102)\n",
    "H     = X@inv(XT@X)@XT\n",
    "r     = e_hat[:, 0]/(numpy.sqrt(35.479)*numpy.sqrt(1 - H.diagonal()))\n",
    "\n",
    "# DFITS\n",
    "dfits = r*numpy.sqrt(H.diagonal()/(1 - H.diagonal()))\n",
    "\n",
    "# Cook's distance\n",
    "# Note that here I set \"p\" (the number of parameters of the model) to 4 for beta_nul, one, two, and three!\n",
    "cook  = (1/4)*(H.diagonal()/(1 - H.diagonal()))*(r**2)\n",
    "\n",
    "# order of observation array\n",
    "order = numpy.array(range(1, 21))"
   ]
  },
  {
   "cell_type": "markdown",
   "metadata": {},
   "source": [
    "### Reproduced table 6.6"
   ]
  },
  {
   "cell_type": "code",
   "execution_count": 266,
   "metadata": {},
   "outputs": [
    {
     "data": {
      "text/html": [
       "<div>\n",
       "<style scoped>\n",
       "    .dataframe tbody tr th:only-of-type {\n",
       "        vertical-align: middle;\n",
       "    }\n",
       "\n",
       "    .dataframe tbody tr th {\n",
       "        vertical-align: top;\n",
       "    }\n",
       "\n",
       "    .dataframe thead th {\n",
       "        text-align: right;\n",
       "    }\n",
       "</style>\n",
       "<table border=\"1\" class=\"dataframe\">\n",
       "  <thead>\n",
       "    <tr style=\"text-align: right;\">\n",
       "      <th></th>\n",
       "      <th>Observation</th>\n",
       "      <th>Carboydrate</th>\n",
       "      <th>Fitted value</th>\n",
       "      <th>Residual</th>\n",
       "      <th>Std residual</th>\n",
       "      <th>DFITS</th>\n",
       "      <th>Cook's distance</th>\n",
       "    </tr>\n",
       "  </thead>\n",
       "  <tbody>\n",
       "    <tr>\n",
       "      <th>0</th>\n",
       "      <td>1</td>\n",
       "      <td>33</td>\n",
       "      <td>37.829</td>\n",
       "      <td>-4.829</td>\n",
       "      <td>-0.878107</td>\n",
       "      <td>-0.365386</td>\n",
       "      <td>3.337672e-02</td>\n",
       "    </tr>\n",
       "    <tr>\n",
       "      <th>1</th>\n",
       "      <td>2</td>\n",
       "      <td>40</td>\n",
       "      <td>40.028</td>\n",
       "      <td>-0.028</td>\n",
       "      <td>-0.005011</td>\n",
       "      <td>-0.001849</td>\n",
       "      <td>8.548113e-07</td>\n",
       "    </tr>\n",
       "    <tr>\n",
       "      <th>2</th>\n",
       "      <td>3</td>\n",
       "      <td>37</td>\n",
       "      <td>35.869</td>\n",
       "      <td>1.131</td>\n",
       "      <td>0.211243</td>\n",
       "      <td>0.102986</td>\n",
       "      <td>2.651540e-03</td>\n",
       "    </tr>\n",
       "    <tr>\n",
       "      <th>3</th>\n",
       "      <td>4</td>\n",
       "      <td>27</td>\n",
       "      <td>23.657</td>\n",
       "      <td>3.343</td>\n",
       "      <td>0.789416</td>\n",
       "      <td>0.780838</td>\n",
       "      <td>1.524269e-01</td>\n",
       "    </tr>\n",
       "    <tr>\n",
       "      <th>4</th>\n",
       "      <td>5</td>\n",
       "      <td>30</td>\n",
       "      <td>29.197</td>\n",
       "      <td>0.803</td>\n",
       "      <td>0.154566</td>\n",
       "      <td>0.086685</td>\n",
       "      <td>1.878553e-03</td>\n",
       "    </tr>\n",
       "    <tr>\n",
       "      <th>5</th>\n",
       "      <td>6</td>\n",
       "      <td>43</td>\n",
       "      <td>37.411</td>\n",
       "      <td>5.589</td>\n",
       "      <td>0.982015</td>\n",
       "      <td>0.303178</td>\n",
       "      <td>2.297928e-02</td>\n",
       "    </tr>\n",
       "    <tr>\n",
       "      <th>6</th>\n",
       "      <td>7</td>\n",
       "      <td>34</td>\n",
       "      <td>35.692</td>\n",
       "      <td>-1.692</td>\n",
       "      <td>-0.322497</td>\n",
       "      <td>-0.173344</td>\n",
       "      <td>7.512048e-03</td>\n",
       "    </tr>\n",
       "    <tr>\n",
       "      <th>7</th>\n",
       "      <td>8</td>\n",
       "      <td>48</td>\n",
       "      <td>44.602</td>\n",
       "      <td>3.398</td>\n",
       "      <td>0.680077</td>\n",
       "      <td>0.441344</td>\n",
       "      <td>4.869604e-02</td>\n",
       "    </tr>\n",
       "    <tr>\n",
       "      <th>8</th>\n",
       "      <td>9</td>\n",
       "      <td>30</td>\n",
       "      <td>40.355</td>\n",
       "      <td>-10.355</td>\n",
       "      <td>-1.885063</td>\n",
       "      <td>-0.790316</td>\n",
       "      <td>1.561499e-01</td>\n",
       "    </tr>\n",
       "    <tr>\n",
       "      <th>9</th>\n",
       "      <td>10</td>\n",
       "      <td>38</td>\n",
       "      <td>35.672</td>\n",
       "      <td>2.328</td>\n",
       "      <td>0.410320</td>\n",
       "      <td>0.131158</td>\n",
       "      <td>4.300631e-03</td>\n",
       "    </tr>\n",
       "    <tr>\n",
       "      <th>10</th>\n",
       "      <td>11</td>\n",
       "      <td>50</td>\n",
       "      <td>42.102</td>\n",
       "      <td>7.898</td>\n",
       "      <td>1.445558</td>\n",
       "      <td>0.627654</td>\n",
       "      <td>9.848726e-02</td>\n",
       "    </tr>\n",
       "    <tr>\n",
       "      <th>11</th>\n",
       "      <td>12</td>\n",
       "      <td>51</td>\n",
       "      <td>47.870</td>\n",
       "      <td>3.130</td>\n",
       "      <td>0.651528</td>\n",
       "      <td>0.477558</td>\n",
       "      <td>5.701546e-02</td>\n",
       "    </tr>\n",
       "    <tr>\n",
       "      <th>12</th>\n",
       "      <td>13</td>\n",
       "      <td>30</td>\n",
       "      <td>37.384</td>\n",
       "      <td>-7.384</td>\n",
       "      <td>-1.451249</td>\n",
       "      <td>-0.883330</td>\n",
       "      <td>1.950678e-01</td>\n",
       "    </tr>\n",
       "    <tr>\n",
       "      <th>13</th>\n",
       "      <td>14</td>\n",
       "      <td>36</td>\n",
       "      <td>42.624</td>\n",
       "      <td>-6.624</td>\n",
       "      <td>-1.319994</td>\n",
       "      <td>-0.844056</td>\n",
       "      <td>1.781077e-01</td>\n",
       "    </tr>\n",
       "    <tr>\n",
       "      <th>14</th>\n",
       "      <td>15</td>\n",
       "      <td>41</td>\n",
       "      <td>35.813</td>\n",
       "      <td>5.187</td>\n",
       "      <td>0.901323</td>\n",
       "      <td>0.240625</td>\n",
       "      <td>1.447508e-02</td>\n",
       "    </tr>\n",
       "    <tr>\n",
       "      <th>15</th>\n",
       "      <td>16</td>\n",
       "      <td>42</td>\n",
       "      <td>36.644</td>\n",
       "      <td>5.356</td>\n",
       "      <td>0.979008</td>\n",
       "      <td>0.421534</td>\n",
       "      <td>4.442271e-02</td>\n",
       "    </tr>\n",
       "    <tr>\n",
       "      <th>16</th>\n",
       "      <td>17</td>\n",
       "      <td>46</td>\n",
       "      <td>39.182</td>\n",
       "      <td>6.818</td>\n",
       "      <td>1.220388</td>\n",
       "      <td>0.451245</td>\n",
       "      <td>5.090558e-02</td>\n",
       "    </tr>\n",
       "    <tr>\n",
       "      <th>17</th>\n",
       "      <td>18</td>\n",
       "      <td>24</td>\n",
       "      <td>32.708</td>\n",
       "      <td>-8.708</td>\n",
       "      <td>-1.694457</td>\n",
       "      <td>-0.992913</td>\n",
       "      <td>2.464690e-01</td>\n",
       "    </tr>\n",
       "    <tr>\n",
       "      <th>18</th>\n",
       "      <td>19</td>\n",
       "      <td>35</td>\n",
       "      <td>39.858</td>\n",
       "      <td>-4.858</td>\n",
       "      <td>-0.860598</td>\n",
       "      <td>-0.289824</td>\n",
       "      <td>2.099952e-02</td>\n",
       "    </tr>\n",
       "    <tr>\n",
       "      <th>19</th>\n",
       "      <td>20</td>\n",
       "      <td>37</td>\n",
       "      <td>37.938</td>\n",
       "      <td>-0.938</td>\n",
       "      <td>-0.174722</td>\n",
       "      <td>-0.083978</td>\n",
       "      <td>1.763066e-03</td>\n",
       "    </tr>\n",
       "  </tbody>\n",
       "</table>\n",
       "</div>"
      ],
      "text/plain": [
       "    Observation  Carboydrate  Fitted value  Residual  Std residual     DFITS  \\\n",
       "0             1           33        37.829    -4.829     -0.878107 -0.365386   \n",
       "1             2           40        40.028    -0.028     -0.005011 -0.001849   \n",
       "2             3           37        35.869     1.131      0.211243  0.102986   \n",
       "3             4           27        23.657     3.343      0.789416  0.780838   \n",
       "4             5           30        29.197     0.803      0.154566  0.086685   \n",
       "5             6           43        37.411     5.589      0.982015  0.303178   \n",
       "6             7           34        35.692    -1.692     -0.322497 -0.173344   \n",
       "7             8           48        44.602     3.398      0.680077  0.441344   \n",
       "8             9           30        40.355   -10.355     -1.885063 -0.790316   \n",
       "9            10           38        35.672     2.328      0.410320  0.131158   \n",
       "10           11           50        42.102     7.898      1.445558  0.627654   \n",
       "11           12           51        47.870     3.130      0.651528  0.477558   \n",
       "12           13           30        37.384    -7.384     -1.451249 -0.883330   \n",
       "13           14           36        42.624    -6.624     -1.319994 -0.844056   \n",
       "14           15           41        35.813     5.187      0.901323  0.240625   \n",
       "15           16           42        36.644     5.356      0.979008  0.421534   \n",
       "16           17           46        39.182     6.818      1.220388  0.451245   \n",
       "17           18           24        32.708    -8.708     -1.694457 -0.992913   \n",
       "18           19           35        39.858    -4.858     -0.860598 -0.289824   \n",
       "19           20           37        37.938    -0.938     -0.174722 -0.083978   \n",
       "\n",
       "    Cook's distance  \n",
       "0      3.337672e-02  \n",
       "1      8.548113e-07  \n",
       "2      2.651540e-03  \n",
       "3      1.524269e-01  \n",
       "4      1.878553e-03  \n",
       "5      2.297928e-02  \n",
       "6      7.512048e-03  \n",
       "7      4.869604e-02  \n",
       "8      1.561499e-01  \n",
       "9      4.300631e-03  \n",
       "10     9.848726e-02  \n",
       "11     5.701546e-02  \n",
       "12     1.950678e-01  \n",
       "13     1.781077e-01  \n",
       "14     1.447508e-02  \n",
       "15     4.442271e-02  \n",
       "16     5.090558e-02  \n",
       "17     2.464690e-01  \n",
       "18     2.099952e-02  \n",
       "19     1.763066e-03  "
      ]
     },
     "execution_count": 266,
     "metadata": {},
     "output_type": "execute_result"
    }
   ],
   "source": [
    "table_6_6 = pandas.DataFrame({\"Observation\":order, \"Carboydrate\":y[:, 0], \"Fitted value\":y_p[:, 0], \\\n",
    "                              \"Residual\":e_hat[:, 0],\"Std residual\": r, \"DFITS\":dfits, \"Cook's distance\":cook})\n",
    "table_6_6"
   ]
  },
  {
   "cell_type": "markdown",
   "metadata": {},
   "source": [
    "### Figure 6. 1 Diagnostic plots for Model (6.6)"
   ]
  },
  {
   "cell_type": "code",
   "execution_count": 260,
   "metadata": {},
   "outputs": [],
   "source": [
    "quantile_range  = numpy.linspace(0.05, 1, 20)\n",
    "\n",
    "normal_data     = numpy.random.normal(0, 1, 100)\n",
    "\n",
    "normal_quantile = numpy.quantile(normal_data, quantile_range)\n",
    "\n",
    "test_x          = numpy.linspace(-2, 2, 100)\n",
    "test_y          = numpy.linspace(-2, 2, 100)"
   ]
  },
  {
   "cell_type": "code",
   "execution_count": 261,
   "metadata": {},
   "outputs": [
    {
     "data": {
      "text/plain": [
       "Text(0, 0.5, 'Standardized residuals ')"
      ]
     },
     "execution_count": 261,
     "metadata": {},
     "output_type": "execute_result"
    },
    {
     "data": {
      "image/png": "[encoded data removed]",
      "text/plain": [
       "<Figure size 576x576 with 1 Axes>"
      ]
     },
     "metadata": {
      "needs_background": "light"
     },
     "output_type": "display_data"
    }
   ],
   "source": [
    "fig, ax = plt.subplots(1, 1, figsize = (8, 8))\n",
    "\n",
    "ax.plot(normal_quantile, numpy.sort(r), 'ko')\n",
    "\n",
    "ax.plot(test_x, test_y, 'k--')\n",
    "\n",
    "ax.set_xlabel(r\"Normal quantiles\", fontsize = 20)\n",
    "\n",
    "ax.set_ylabel(\"Standardized residuals \", fontsize = 20)"
   ]
  },
  {
   "cell_type": "code",
   "execution_count": 186,
   "metadata": {},
   "outputs": [
    {
     "data": {
      "text/plain": [
       "Text(0, 0.5, 'Standardized residuals ')"
      ]
     },
     "execution_count": 186,
     "metadata": {},
     "output_type": "execute_result"
    },
    {
     "data": {
      "image/png": "[encoded data removed]",
      "text/plain": [
       "<Figure size 576x576 with 1 Axes>"
      ]
     },
     "metadata": {
      "needs_background": "light"
     },
     "output_type": "display_data"
    }
   ],
   "source": [
    "fig, ax = plt.subplots(1, 1, figsize = (8, 8))\n",
    "\n",
    "ax.plot(y_p[:, 0], r, 'ko')\n",
    "\n",
    "ax.set_xlabel(r\"Fitted carbohydrate\", fontsize = 20)\n",
    "\n",
    "ax.set_ylabel(\"Standardized residuals \", fontsize = 20)"
   ]
  },
  {
   "cell_type": "code",
   "execution_count": 267,
   "metadata": {},
   "outputs": [
    {
     "data": {
      "text/plain": [
       "(0.5, 20.5)"
      ]
     },
     "execution_count": 267,
     "metadata": {},
     "output_type": "execute_result"
    },
    {
     "data": {
      "image/png": "[encoded data removed]",
      "text/plain": [
       "<Figure size 576x576 with 1 Axes>"
      ]
     },
     "metadata": {
      "needs_background": "light"
     },
     "output_type": "display_data"
    }
   ],
   "source": [
    "fig, ax = plt.subplots(1, 1, figsize = (8, 8))\n",
    "\n",
    "ax.plot(order, cook, 'ko')\n",
    "\n",
    "ax.set_xlabel(r\"Order of observation\", fontsize = 20)\n",
    "\n",
    "ax.set_ylabel(\"Cook's distance\", fontsize = 20)\n",
    "\n",
    "ax.set_xlim(0.5, 20.5)"
   ]
  },
  {
   "cell_type": "markdown",
   "metadata": {},
   "source": [
    "## Coefficient of determination, $R^2$"
   ]
  },
  {
   "cell_type": "code",
   "execution_count": 270,
   "metadata": {},
   "outputs": [
    {
     "data": {
      "text/plain": [
       "array([[0.48054277]])"
      ]
     },
     "execution_count": 270,
     "metadata": {},
     "output_type": "execute_result"
    }
   ],
   "source": [
    "# coefficient of determination page 111.\n",
    "r_2 = (numpy.transpose(b)@XT@y - 20*y.mean()**2)/(numpy.transpose(y)@y - 20*y.mean()**2)\n",
    "r_2"
   ]
  },
  {
   "cell_type": "markdown",
   "metadata": {},
   "source": [
    "## 7.3.1 Example: Beetle mortality"
   ]
  },
  {
   "cell_type": "code",
   "execution_count": 11,
   "metadata": {},
   "outputs": [],
   "source": [
    "dose    = numpy.array([1.6907, 1.7247, 1.7552, 1.7842, 1.8113, 1.8369, 1.8610, 1.8839])\n",
    "beetles = numpy.array([59, 60, 62, 56, 63, 59, 62, 60])\n",
    "killed  = numpy.array([6, 13, 18, 28, 52, 53, 61, 60])\n",
    "p_i     = killed/beetles\n",
    "com     = numpy.array([math.comb(beetles[i], killed[i]) for i in range(killed.size)])"
   ]
  },
  {
   "cell_type": "code",
   "execution_count": 22,
   "metadata": {},
   "outputs": [],
   "source": [
    "def logistic_log_likelihood(param, y_observed = torch.from_numpy(killed), x_predictor = torch.from_numpy(dose), \\\n",
    "                            total_number = torch.from_numpy(beetles), combination = torch.from_numpy(com)):\n",
    "    \n",
    "    # Note that for the sake of the similariy of the results I had to remove the combination term in \n",
    "    # in the log-likelihood function of the Binomial distribution. Read page 156 of Dobson!\n",
    "    log_likeli = (y_observed * (param[0] + param[1] * x_predictor) - total_number * torch.log(1 + \\\n",
    "                        torch.exp(param[0] + param[1] * x_predictor))).sum()\n",
    "    \n",
    "#     log_likeli = (y_observed * (param[0] + param[1]*x_predictor) - n * torch.log(1 + \\\n",
    "#                         torch.exp(param[0] + param[1]*x_predictor)) + torch.log(combination)).sum()\n",
    "        \n",
    "    return log_likeli"
   ]
  },
  {
   "cell_type": "code",
   "execution_count": 23,
   "metadata": {},
   "outputs": [],
   "source": [
    "def logistic_iterative(param):\n",
    "\n",
    "    beta_old     = param\n",
    "    largest_beta = 1\n",
    "    while largest_beta > 0.001:\n",
    "        # Note that in torch Hessian is negative of information matrix and since here \"J\" represents\n",
    "        # the information matrix (i.e. the variance of the u_prime; see page 55 of Dobson) we need to \n",
    "        # mulitply the result of the Hessian by a negative sign as is done below!!\n",
    "        J        = -1 * torch.autograd.functional.hessian(logistic_log_likelihood, (beta_old))\n",
    "        U        = torch.autograd.functional.jacobian(logistic_log_likelihood, (beta_old))\n",
    "        beta_new = beta_old + U @ torch.inverse(J)\n",
    "        beta_diff= abs(beta_old - beta_new)\n",
    "        largest_beta = beta_diff.max()\n",
    "\n",
    "        beta_old = beta_new\n",
    "    \n",
    "    return beta_old "
   ]
  },
  {
   "cell_type": "code",
   "execution_count": 33,
   "metadata": {},
   "outputs": [
    {
     "data": {
      "text/plain": [
       "tensor([-60.8588,  34.3484])"
      ]
     },
     "execution_count": 33,
     "metadata": {},
     "output_type": "execute_result"
    }
   ],
   "source": [
    "parameter_array = torch.Tensor([0.0, 0.0])\n",
    "beta_cofficient = logistic_iterative(parameter_array)\n",
    "beta_cofficient"
   ]
  },
  {
   "cell_type": "code",
   "execution_count": 34,
   "metadata": {},
   "outputs": [
    {
     "data": {
      "text/plain": [
       "array([ 3.42738884,  9.92848203, 22.39071408, 33.87123201, 50.09729812,\n",
       "       53.30195799, 59.23282233, 58.75009746])"
      ]
     },
     "execution_count": 34,
     "metadata": {},
     "output_type": "execute_result"
    }
   ],
   "source": [
    "# To make use of the estimated beta coefficients to do the predication of the data first we \n",
    "# need to find the proportion value (i.e. pi_i) for each observation and then use that to \n",
    "# find the predicted value!\n",
    "beta_vector = beta_cofficient.detach().cpu().numpy()\n",
    "pi          = numpy.exp(beta_vector[0] + beta_vector[1]*dose)/(1 + numpy.exp(beta_vector[0] + \\\n",
    "                                                            beta_vector[1]*dose))\n",
    "predicted_kill = pi * beetles\n",
    "predicted_kill"
   ]
  },
  {
   "cell_type": "code",
   "execution_count": 95,
   "metadata": {},
   "outputs": [
    {
     "data": {
      "text/plain": [
       "11.125370131278352"
      ]
     },
     "execution_count": 95,
     "metadata": {},
     "output_type": "execute_result"
    }
   ],
   "source": [
    "# Finally, we find the value of deviation (D)\n",
    "\n",
    "2 * (killed*numpy.log(killed/predicted_kill) + (beetles - \\\n",
    "    killed)*(numpy.log(beetles - killed + 0.000001) - numpy.log(beetles - predicted_kill))).sum()"
   ]
  },
  {
   "cell_type": "code",
   "execution_count": 7,
   "metadata": {},
   "outputs": [],
   "source": [
    "y_treatment = numpy.array([0, 1, 3, 5])\n",
    "total_treat = numpy.array([5, 5, 5, 5])\n",
    "x_treatment = numpy.array([-0.86, -0.30, -0.05, 0.73])\n",
    "pi_treatment= y_treatment/total_treat\n",
    "combination = numpy.array([math.comb(total_treat[i], y_treatment[i]) for i in range(y_treatment.size)])"
   ]
  },
  {
   "cell_type": "code",
   "execution_count": 8,
   "metadata": {},
   "outputs": [],
   "source": [
    "def logistic_log_likelihood_v2(param, y_observed = torch.from_numpy(y_treatment), x_predictor = torch.from_numpy(x_treatment), \\\n",
    "                            total_number = torch.from_numpy(total_treat), combination = torch.from_numpy(com)):\n",
    "    \n",
    "    # Note that for the sake of similariy of the results I had to remove the combination term in \n",
    "    # in the log-likelihood function of the Binomial distribution. Read page 156 of Dobson!\n",
    "    log_likeli = (y_observed * (param[0] + param[1] * x_predictor) - total_number * torch.log(1 + \\\n",
    "                        torch.exp(param[0] + param[1] * x_predictor))).sum()\n",
    "    \n",
    "#     log_likeli = (y_observed * (param[0] + param[1]*x_predictor) - total_number * torch.log(1 + \\\n",
    "#                         torch.exp(param[0] + param[1]*x_predictor)) + torch.log(combination)).sum()\n",
    "        \n",
    "    return log_likeli"
   ]
  },
  {
   "cell_type": "code",
   "execution_count": 9,
   "metadata": {},
   "outputs": [],
   "source": [
    "def logistic_iterative_v2(param):\n",
    "\n",
    "    beta_old     = param\n",
    "    largest_beta = 1\n",
    "    while largest_beta > 0.001:\n",
    "        # Note that in torch Hessian is negative of information matrix and since here \"J\" represents\n",
    "        # the information matrix (i.e. the variance of the u_prime; see page 55 of Dobson) we need to \n",
    "        # mulitply the result of the Hessian by a negative sign as is done below!!\n",
    "        J        = -1 * torch.autograd.functional.hessian(logistic_log_likelihood_v2, (beta_old))\n",
    "        U        = torch.autograd.functional.jacobian(logistic_log_likelihood_v2, (beta_old))\n",
    "        beta_new = beta_old + U @ torch.inverse(J)\n",
    "        beta_diff= abs(beta_old - beta_new)\n",
    "        largest_beta = beta_diff.max()\n",
    "\n",
    "        beta_old = beta_new\n",
    "    \n",
    "    return beta_old "
   ]
  },
  {
   "cell_type": "code",
   "execution_count": 10,
   "metadata": {},
   "outputs": [
    {
     "data": {
      "text/plain": [
       "tensor([0.8466, 7.7488])"
      ]
     },
     "execution_count": 10,
     "metadata": {},
     "output_type": "execute_result"
    }
   ],
   "source": [
    "parameter_array = torch.Tensor([0.0, 0.0])\n",
    "beta_cofficient = logistic_iterative_v2(parameter_array)\n",
    "beta_cofficient"
   ]
  },
  {
   "cell_type": "code",
   "execution_count": 142,
   "metadata": {},
   "outputs": [
    {
     "name": "stdout",
     "output_type": "stream",
     "text": [
      "[1 1 1 1 1 0 1 1 0 1 0 1 0 1 1 1 1 0 0 1]\n",
      "0.9999999999999999\n"
     ]
    }
   ],
   "source": [
    "Y =stats.bernoulli(0.7).rvs(20)\n",
    "print(Y)\n",
    "like = stats.beta(1, 1).pdf(0.67)\n",
    "print(like)\n",
    "# stats.bernoulli(0.3).pmf(Y).prod()"
   ]
  },
  {
   "cell_type": "code",
   "execution_count": 36,
   "metadata": {},
   "outputs": [],
   "source": [
    "alpha_range = numpy.linspace(-4, 6, 100)\n",
    "beta_range  = numpy.linspace(0, 30, 100)\n",
    "\n",
    "alpha_grid, beta_grid = numpy.meshgrid(alpha_range, beta_range)"
   ]
  },
  {
   "cell_type": "code",
   "execution_count": 58,
   "metadata": {},
   "outputs": [],
   "source": [
    "def alpha_beta_posterio(alpha, beta, observed_y, iteration = 5):\n",
    "    \n",
    "    pi_value   = alpha + beta*(20)\n",
    "    prior      = 1\n",
    "    likelihood_old = 1\n",
    "    for i in range(observed_y.size):\n",
    "        # calculating the likelihood value\n",
    "        likelihood  = scipy.stats.binom.pmf(observed_y[i], p = pi_value, n = 5)\n",
    "        print(likelihood)\n",
    "#         likelihood_list.append(likelihood)\n",
    "        total_likelihood = likelihood * likelihood_old\n",
    "        old_likelihood   = likelihood\n",
    "    posterior   = total_likelihood * prior\n",
    "        \n",
    "        \n",
    "    return posterior, pi_value\n",
    "    "
   ]
  },
  {
   "cell_type": "code",
   "execution_count": null,
   "metadata": {},
   "outputs": [],
   "source": [
    "test, test_2 = alpha_beta_posterio(alpha_grid, beta_grid, y_treatment)"
   ]
  },
  {
   "cell_type": "code",
   "execution_count": null,
   "metadata": {},
   "outputs": [],
   "source": []
  }
 ],
 "metadata": {
  "kernelspec": {
   "display_name": "Python [conda env:miniconda3-nozhan_test_env_2]",
   "language": "python",
   "name": "conda-env-miniconda3-nozhan_test_env_2-py"
  },
  "language_info": {
   "codemirror_mode": {
    "name": "ipython",
    "version": 3
   },
   "file_extension": ".py",
   "mimetype": "text/x-python",
   "name": "python",
   "nbconvert_exporter": "python",
   "pygments_lexer": "ipython3",
   "version": "3.10.6"
  }
 },
 "nbformat": 4,
 "nbformat_minor": 4
}
