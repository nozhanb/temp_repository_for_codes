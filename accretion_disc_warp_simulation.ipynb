{
 "cells": [
  {
   "cell_type": "markdown",
   "metadata": {},
   "source": [
    "# A failed attempt at reproducing Fig. 1 of [Sergei Nayakshin 2005](https://doi.org/10.1111/j.1365-2966.2005.08913.x)!\n"
   ]
  },
  {
   "cell_type": "code",
   "execution_count": 1,
   "metadata": {},
   "outputs": [],
   "source": [
    "import time\n",
    "import torch # so the codes below can run on GPU.\n",
    "import numpy \n",
    "import matplotlib.pyplot as plt\n",
    "from matplotlib.patches import Ellipse\n",
    "\n",
    "%matplotlib inline"
   ]
  },
  {
   "cell_type": "markdown",
   "metadata": {},
   "source": [
    "# Equation 3"
   ]
  },
  {
   "cell_type": "code",
   "execution_count": 86,
   "metadata": {},
   "outputs": [],
   "source": [
    "def cos_lambda(phi, phi_one, beta = 3.14/4.):\n",
    "    \n",
    "    output = numpy.cos(beta) * numpy.sin(phi) * numpy.sin(phi_one) + numpy.cos(phi) * numpy.cos(phi_one)\n",
    "    \n",
    "    return output\n",
    "    "
   ]
  },
  {
   "cell_type": "markdown",
   "metadata": {},
   "source": [
    "# Equation 6"
   ]
  },
  {
   "cell_type": "code",
   "execution_count": 82,
   "metadata": {},
   "outputs": [],
   "source": [
    "def delta(r_one = 2., r = 2.):\n",
    "    numerator   = 2. * r_one * r\n",
    "    denominator = r_one ** 2 + r ** 2\n",
    "    ratio       = numerator/denominator\n",
    "    return ratio"
   ]
  },
  {
   "cell_type": "markdown",
   "metadata": {},
   "source": [
    "# Equation 5"
   ]
  },
  {
   "cell_type": "code",
   "execution_count": 98,
   "metadata": {},
   "outputs": [],
   "source": [
    "# https://math.stackexchange.com/questions/2121611/simpson-rule-for-double-integral\n",
    "\n",
    "def integral_delta_beta(inner_step_size, outer_step_size, a_start, b_end, c_start, d_end, beta = 3.14/4.):\n",
    "    \n",
    "    j         = c_start\n",
    "    current_c = c_start\n",
    "    current_d = c_start + outer_step_size\n",
    "    \n",
    "    i         = a_start\n",
    "    current_a = a_start\n",
    "    current_b = a_start + inner_step_size\n",
    "    \n",
    "    coeff     = (1/36) * inner_step_size * outer_step_size\n",
    "    \n",
    "    incremental_sum = []\n",
    "    while j < d_end:\n",
    "        i         = a_start\n",
    "        current_a = a_start\n",
    "        current_b = a_start + outer_step_size\n",
    "        while i < b_end:\n",
    "            term_one   = 16 * (numpy.sin((current_a + current_b)/2) * numpy.sin((current_c + current_d)/2)/ \\\n",
    "                                 (1 - delta() * cos_lambda((current_a + current_b)/2, \\\n",
    "                                                           ((current_c + current_d)/2)))**(3/2))\n",
    "            \n",
    "            term_two   = 4  * ((numpy.sin((current_a + current_b)/2) * numpy.sin(current_d))/ \\\n",
    "                                 (1 - delta() * cos_lambda((current_a + current_b)/2, current_d))**(3/2))\n",
    "            \n",
    "            term_three = 4  * ((numpy.sin((current_a + current_b)/2) * numpy.sin(current_c))/ \\\n",
    "                                 (1 - delta() * cos_lambda((current_a + current_b)/2, current_c))**(3/2))\n",
    "            \n",
    "            term_four  = 4  * ((numpy.sin(current_b) * numpy.sin((current_c + current_d)/2))/ \\\n",
    "                                 (1 - delta() * cos_lambda(current_b, (current_c + current_d)/2))**(3/2))\n",
    "            \n",
    "            term_five  =      ((numpy.sin(current_b) * numpy.sin(current_d))/ \\\n",
    "                                 (1 - delta() * cos_lambda(current_b, current_d))**(3/2))\n",
    "            \n",
    "            term_six   =      ((numpy.sin(current_b) * numpy.sin(current_c))/ \\\n",
    "                                 (1 - delta() * cos_lambda(current_b, current_c))**(3/2))\n",
    "            \n",
    "            term_seven = 4  * ((numpy.sin(current_a) * numpy.sin((current_c + current_d)/2))/ \\\n",
    "                                 (1 - delta() * cos_lambda(current_a, (current_c + current_d)/2))**(3/2))\n",
    "            \n",
    "            term_eight =      ((numpy.sin(current_a) * numpy.sin(current_d))/ \\\n",
    "                                 (1 - delta() * cos_lambda(current_a, current_d))**(3/2))\n",
    "            \n",
    "            term_nine  =      ((numpy.sin(current_a) * numpy.sin(current_c))/ \\\n",
    "                                 (1 - delta() * cos_lambda(current_a, current_c))**(3/2))\n",
    "            \n",
    "            # Adding all the terms\n",
    "            rectangle_result = coeff * (term_one + term_two + term_three + term_four + term_five + term_six + \\\n",
    "                                        term_seven + term_eight + term_nine)\n",
    "            # Updateing the begining and end of the inner interval for the next iteration\n",
    "            current_a = current_b\n",
    "            current_b = current_b + inner_step_size\n",
    "        \n",
    "            # Appending results to the list\n",
    "            incremental_sum.append(rectangle_result)\n",
    "            \n",
    "            # Updating i\n",
    "            i += inner_step_size\n",
    "\n",
    "        # Updateing the begining and end of the inner interval for the next iteration\n",
    "        current_c = current_d\n",
    "        current_d = current_d + outer_step_size\n",
    "        \n",
    "        # Updating j\n",
    "        j += outer_step_size\n",
    "\n",
    "    increment_array    = numpy.array(incremental_sum)\n",
    "    integral_output    = (numpy.sin(beta)/(4 * numpy.pi**2)) * increment_array.sum()\n",
    "    \n",
    "    return integral_output"
   ]
  },
  {
   "cell_type": "markdown",
   "metadata": {},
   "source": [
    "# Equation 4"
   ]
  },
  {
   "cell_type": "code",
   "execution_count": 108,
   "metadata": {},
   "outputs": [],
   "source": [
    "def torque_21(delta_beta, m_one = 1000, r_one = 2, r=2, m = 0.001, g_const = (6.6743)**(-11)):\n",
    "    \n",
    "    numerator   = g_const * m_one * m * r_one * r\n",
    "    denominator = (r_one ** 2 + r ** 2)**(3/2)\n",
    "    output      = (numerator/denominator) * delta_beta\n",
    "    \n",
    "    return output\n",
    "    "
   ]
  },
  {
   "cell_type": "markdown",
   "metadata": {},
   "source": [
    "Below we calculate $\\Omega_k$ (total_angular_momentum) to be used in the denominator of eq. 7."
   ]
  },
  {
   "cell_type": "code",
   "execution_count": 119,
   "metadata": {},
   "outputs": [],
   "source": [
    "# https://math.stackexchange.com/questions/900936/angular-momentum-of-an-accretion-disk\n",
    "# https://www.ita.uni-heidelberg.de/~mattia/teaching/accretion_disks.pdf\n",
    "\n",
    "def total_angular_momentum(g_const = (6.6743)**(-11), m = 0.001, r = 2):\n",
    "    \n",
    "    output = numpy.sqrt(((g_const * m)/r**3))\n",
    "    \n",
    "    return output\n",
    "    "
   ]
  },
  {
   "cell_type": "markdown",
   "metadata": {},
   "source": [
    "# Equation 7"
   ]
  },
  {
   "cell_type": "code",
   "execution_count": 113,
   "metadata": {},
   "outputs": [],
   "source": [
    "def omega_p(torque_21_value, total_ang_momentum = total_angular_momentum(), m = 0.001, r = 2, beta = 3.14/4.):\n",
    "    \n",
    "    numerator   = torque_21_value\n",
    "    denominator = m * total_ang_momentum * (r**2) * numpy.sin(beta)\n",
    "    \n",
    "    output      = numerator/denominator\n",
    "    \n",
    "    return output\n",
    "    "
   ]
  },
  {
   "cell_type": "markdown",
   "metadata": {},
   "source": [
    "# Equation 13"
   ]
  },
  {
   "cell_type": "code",
   "execution_count": 114,
   "metadata": {},
   "outputs": [],
   "source": [
    "def gamma_angle(omega_p, time):\n",
    "    \n",
    "    output = 3.14/2 + omega_p * time\n",
    "    \n",
    "    return output\n",
    "    "
   ]
  },
  {
   "cell_type": "markdown",
   "metadata": {},
   "source": [
    "# Equation 17, 18, and 19"
   ]
  },
  {
   "cell_type": "code",
   "execution_count": 115,
   "metadata": {},
   "outputs": [],
   "source": [
    "def x_y_z_prime(gamma, phi, r = 2, beta = 3.14/4.):\n",
    "    \n",
    "    x_prime = (numpy.cos(beta)*numpy.cos(gamma)*numpy.sin(phi) + numpy.sin(gamma)*numpy.cos(phi)) * r\n",
    "    \n",
    "    y_prime = (-numpy.cos(beta)*numpy.cos(gamma)*numpy.cos(phi) + numpy.sin(phi) * \\\n",
    "                ((numpy.cos(beta)**2) * numpy.sin(gamma) + numpy.sin(beta)**2)) * r\n",
    "    \n",
    "    z_prime = (-numpy.sin(beta) * (numpy.cos(gamma)*numpy.cos(phi) + (1 - numpy.sin(gamma)) * numpy.cos(beta) * \\\n",
    "                                  numpy.sin(phi)))* r\n",
    "    \n",
    "    return x_prime, y_prime, z_prime\n",
    "    "
   ]
  },
  {
   "cell_type": "code",
   "execution_count": 117,
   "metadata": {},
   "outputs": [
    {
     "data": {
      "text/plain": [
       "0.842639501611494"
      ]
     },
     "execution_count": 117,
     "metadata": {},
     "output_type": "execute_result"
    }
   ],
   "source": [
    "start = time.time()\n",
    "inner_start = 0.0001\n",
    "inner_end   = 6.28\n",
    "\n",
    "outer_start = 0.0001\n",
    "outer_end   = 6.28\n",
    "\n",
    "inner_step = (inner_end - inner_start)/500\n",
    "outer_step = (outer_end - outer_start)/500\n",
    "\n",
    "test_run_torque = integral_delta_beta(inner_step, outer_step, inner_start, inner_end, outer_start, outer_end)\n",
    "test_run_torque\n",
    "\n",
    "end = time.time()\n",
    "print(end - start)"
   ]
  },
  {
   "cell_type": "markdown",
   "metadata": {},
   "source": [
    "The problem is that equations 17, 18, and 19 depend on equations 14, 15, and 16 for which I do not have the angles $\\alpha$, $\\beta$ and $\\gamma$! My knowledge of classical mechanics is rusty! I need to get back to it later!!  "
   ]
  },
  {
   "cell_type": "code",
   "execution_count": null,
   "metadata": {},
   "outputs": [],
   "source": []
  },
  {
   "cell_type": "code",
   "execution_count": null,
   "metadata": {},
   "outputs": [],
   "source": []
  }
 ],
 "metadata": {
  "kernelspec": {
   "display_name": "Python 3",
   "language": "python",
   "name": "python3"
  },
  "language_info": {
   "codemirror_mode": {
    "name": "ipython",
    "version": 3
   },
   "file_extension": ".py",
   "mimetype": "text/x-python",
   "name": "python",
   "nbconvert_exporter": "python",
   "pygments_lexer": "ipython3",
   "version": "3.7.4"
  }
 },
 "nbformat": 4,
 "nbformat_minor": 4
}
